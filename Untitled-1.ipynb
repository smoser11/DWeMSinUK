{
 "cells": [
  {
   "cell_type": "code",
   "execution_count": 2,
   "metadata": {},
   "outputs": [
    {
     "name": "stdout",
     "output_type": "stream",
     "text": [
      "Extracted text from Great Chat Today & Some Fun Ideas to Explore!.eml and saved to Great Chat Today & Some Fun Ideas to Explore!_text.txt\n",
      "Extracted text from Responding to Student Complaints.eml and saved to Responding to Student Complaints_text.txt\n",
      "Extracted text from Re_ Philippines Paper Feedback11.eml and saved to Re_ Philippines Paper Feedback11_text.txt\n",
      "Extracted text from RE-  External Work Application Form - Dr Scott Moser.eml and saved to RE-  External Work Application Form - Dr Scott Moser_text.txt\n",
      "Extracted text from FW- External Work Application Form - Dr Scott Moser copy.eml and saved to FW- External Work Application Form - Dr Scott Moser copy_text.txt\n"
     ]
    },
    {
     "ename": "AttributeError",
     "evalue": "'NoneType' object has no attribute 'get_content'",
     "output_type": "error",
     "traceback": [
      "\u001b[0;31m---------------------------------------------------------------------------\u001b[0m",
      "\u001b[0;31mAttributeError\u001b[0m                            Traceback (most recent call last)",
      "Cell \u001b[0;32mIn[2], line 23\u001b[0m\n\u001b[1;32m     21\u001b[0m \u001b[38;5;28;01mif\u001b[39;00m filename\u001b[38;5;241m.\u001b[39mendswith(\u001b[38;5;124m\"\u001b[39m\u001b[38;5;124m.eml\u001b[39m\u001b[38;5;124m\"\u001b[39m):\n\u001b[1;32m     22\u001b[0m     eml_file \u001b[38;5;241m=\u001b[39m os\u001b[38;5;241m.\u001b[39mpath\u001b[38;5;241m.\u001b[39mjoin(directory, filename)\n\u001b[0;32m---> 23\u001b[0m     subject, body \u001b[38;5;241m=\u001b[39m \u001b[43mextract_email_text\u001b[49m\u001b[43m(\u001b[49m\u001b[43meml_file\u001b[49m\u001b[43m)\u001b[49m\n\u001b[1;32m     25\u001b[0m     \u001b[38;5;66;03m# Save the extracted text to a new file\u001b[39;00m\n\u001b[1;32m     26\u001b[0m     output_filename \u001b[38;5;241m=\u001b[39m \u001b[38;5;124mf\u001b[39m\u001b[38;5;124m\"\u001b[39m\u001b[38;5;132;01m{\u001b[39;00mos\u001b[38;5;241m.\u001b[39mpath\u001b[38;5;241m.\u001b[39msplitext(filename)[\u001b[38;5;241m0\u001b[39m]\u001b[38;5;132;01m}\u001b[39;00m\u001b[38;5;124m_text.txt\u001b[39m\u001b[38;5;124m\"\u001b[39m\n",
      "Cell \u001b[0;32mIn[2], line 12\u001b[0m, in \u001b[0;36mextract_email_text\u001b[0;34m(eml_file)\u001b[0m\n\u001b[1;32m      9\u001b[0m     msg \u001b[38;5;241m=\u001b[39m BytesParser(policy\u001b[38;5;241m=\u001b[39mdefault)\u001b[38;5;241m.\u001b[39mparse(file)\n\u001b[1;32m     11\u001b[0m subject \u001b[38;5;241m=\u001b[39m msg[\u001b[38;5;124m\"\u001b[39m\u001b[38;5;124mSubject\u001b[39m\u001b[38;5;124m\"\u001b[39m]\n\u001b[0;32m---> 12\u001b[0m body \u001b[38;5;241m=\u001b[39m \u001b[43mmsg\u001b[49m\u001b[38;5;241;43m.\u001b[39;49m\u001b[43mget_body\u001b[49m\u001b[43m(\u001b[49m\u001b[43mpreferencelist\u001b[49m\u001b[38;5;241;43m=\u001b[39;49m\u001b[43m(\u001b[49m\u001b[38;5;124;43m\"\u001b[39;49m\u001b[38;5;124;43mplain\u001b[39;49m\u001b[38;5;124;43m\"\u001b[39;49m\u001b[43m)\u001b[49m\u001b[43m)\u001b[49m\u001b[38;5;241;43m.\u001b[39;49m\u001b[43mget_content\u001b[49m()\n\u001b[1;32m     14\u001b[0m \u001b[38;5;28;01mreturn\u001b[39;00m subject, body\n",
      "\u001b[0;31mAttributeError\u001b[0m: 'NoneType' object has no attribute 'get_content'"
     ]
    }
   ],
   "source": [
    "import os\n",
    "import email\n",
    "from email.parser import BytesParser, Parser\n",
    "from email.policy import default\n",
    "\n",
    "\n",
    "def extract_email_text(eml_file):\n",
    "    with open(eml_file, \"rb\") as file:\n",
    "        msg = BytesParser(policy=default).parse(file)\n",
    "\n",
    "    subject = msg[\"Subject\"]\n",
    "    body = msg.get_body(preferencelist=(\"plain\")).get_content()\n",
    "\n",
    "    return subject, body\n",
    "\n",
    "\n",
    "# Specify the directory containing your EML files\n",
    "directory = \"/Users/sm38679/Library/CloudStorage/Dropbox/research/RightsLab/DWeMSinUK/Meetings/emails\"\n",
    "directory = \"/Users/sm38679/Downloads\"\n",
    "for filename in os.listdir(directory):\n",
    "    if filename.endswith(\".eml\") and \"Philippines\" in filename:\n",
    "        eml_file = os.path.join(directory, filename)\n",
    "        subject, body = extract_email_text(eml_file)\n",
    "\n",
    "        # Save the extracted text to a new file\n",
    "        output_filename = f\"{os.path.splitext(filename)[0]}_text.txt\"\n",
    "        output_path = os.path.join(directory, output_filename)\n",
    "        with open(output_path, \"w\", encoding=\"utf-8\") as output_file:\n",
    "            output_file.write(f\"Subject: {subject}\\n\\n{body}\")\n",
    "\n",
    "        print(f\"Extracted text from {filename} and saved to {output_filename}\")"
   ]
  },
  {
   "cell_type": "code",
   "execution_count": 1,
   "metadata": {},
   "outputs": [
    {
     "name": "stdout",
     "output_type": "stream",
     "text": [
      "Extracted text from Re- Alternative assessment modes for modues and Campus Solutions[11].eml and saved to 20231114_Re- Alternative assessment modes for modues and Campus Solutions[11]_text.txt\n",
      "Extracted text from Re- Guidance to students on assessment.eml and saved to 20240909_Re- Guidance to students on assessment_text.txt\n",
      "Extracted text from Alternative assessment modes for modues and Campus Solutions.eml and saved to 20231004_Alternative assessment modes for modues and Campus Solutions_text.txt\n",
      "Extracted text from RE- Alternative assessment modes for modues and Campus SolutionsDear Scott,.eml and saved to 20231019_RE- Alternative assessment modes for modues and Campus SolutionsDear Scott,_text.txt\n",
      "Extracted text from Re- Alternative assessment modes for modues and Campus Solutions[1].eml and saved to 20231114_Re- Alternative assessment modes for modues and Campus Solutions[1]_text.txt\n",
      "Extracted text from Re- meeting.eml and saved to 20231207_Re- meeting_text.txt\n",
      "Extracted text from Re- Alternative assessment modes for modues and Campus SolutionsDear Scott,[1].eml and saved to 20231019_Re- Alternative assessment modes for modues and Campus SolutionsDear Scott,[1]_text.txt\n",
      "Extracted text from Re- Alternative assessment modes for modues and Campus Solutions[10].eml and saved to 20231213_Re- Alternative assessment modes for modues and Campus Solutions[10]_text.txt\n",
      "Extracted text from Fwd- Alternative assessment modes for modues and Campus Solutions[1].eml and saved to 20240909_Fwd- Alternative assessment modes for modues and Campus Solutions[1]_text.txt\n",
      "Extracted text from Re- Alternative assessment modes for modues and Campus Solutions[7].eml and saved to 20231205_Re- Alternative assessment modes for modues and Campus Solutions[7]_text.txt\n",
      "Extracted text from FW- ESE Committee funding- 24-25.eml and saved to 20240907_FW- ESE Committee funding- 24-25_text.txt\n",
      "Extracted text from Re- Alternative assessment modes for modues and Campus SolutionsDear Scott,[6].eml and saved to 20231229_Re- Alternative assessment modes for modues and Campus SolutionsDear Scott,[6]_text.txt\n",
      "Extracted text from Re- meeting[1].eml and saved to 20231213_Re- meeting[1]_text.txt\n",
      "Extracted text from Re- Alternative assessment modes for modues and Campus Solutions[6].eml and saved to 20231205_Re- Alternative assessment modes for modues and Campus Solutions[6]_text.txt\n",
      "Extracted text from Re- meeting[2].eml and saved to 20231213_Re- meeting[2]_text.txt\n",
      "Extracted text from Re- Alternative assessment modes for modues and Campus Solutions[5].eml and saved to 20231205_Re- Alternative assessment modes for modues and Campus Solutions[5]_text.txt\n",
      "Extracted text from Re_ Alternative assessment modes for modues and Campus Solutions.eml and saved to 20231114_Re_ Alternative assessment modes for modues and Campus Solutions_text.txt\n",
      "Extracted text from Re- Alternative assessment modes for modues and Campus Solutions[9].eml and saved to 20231205_Re- Alternative assessment modes for modues and Campus Solutions[9]_text.txt\n",
      "Extracted text from Re- Alternative assessment modes for modues and Campus SolutionsDear Scott,[4].eml and saved to 20231026_Re- Alternative assessment modes for modues and Campus SolutionsDear Scott,[4]_text.txt\n",
      "Extracted text from Fwd- Alternative assessment modes for modues and Campus SolutionsDear Scott,.eml and saved to 20240909_Fwd- Alternative assessment modes for modues and Campus SolutionsDear Scott,_text.txt\n",
      "Extracted text from RE- Alternative assessment modes for modues and Campus SolutionsDear Scott,[5].eml and saved to 20231102_RE- Alternative assessment modes for modues and Campus SolutionsDear Scott,[5]_text.txt\n",
      "Extracted text from Re- Alternative assessment modes for modues and Campus Solutions[8].eml and saved to 20231205_Re- Alternative assessment modes for modues and Campus Solutions[8]_text.txt\n",
      "Extracted text from Re- Alternative assessment modes for modues and Campus Solutions[4].eml and saved to 20231123_Re- Alternative assessment modes for modues and Campus Solutions[4]_text.txt\n",
      "Extracted text from Re- Alternative assessment modes for modues and Campus Solutions.eml and saved to 20231114_Re- Alternative assessment modes for modues and Campus Solutions_text.txt\n",
      "Extracted text from RE- Alternative assessment modes for modues and Campus SolutionsDear Scott,[2].eml and saved to 20231019_RE- Alternative assessment modes for modues and Campus SolutionsDear Scott,[2]_text.txt\n",
      "Extracted text from Re- ESE Committee funding- 24-25.eml and saved to 20240909_Re- ESE Committee funding- 24-25_text.txt\n",
      "Extracted text from Re- Alternative assessment modes for modues and Campus Solutions[3].eml and saved to 20231122_Re- Alternative assessment modes for modues and Campus Solutions[3]_text.txt\n",
      "Extracted text from Fwd- Alternative assessment modes for modues and Campus Solutions.eml and saved to 20240909_Fwd- Alternative assessment modes for modues and Campus Solutions_text.txt\n",
      "Extracted text from meeting.eml and saved to 20231207_meeting_text.txt\n",
      "Extracted text from Re- Alternative assessment modes for modues and Campus Solutions[2].eml and saved to 20231115_Re- Alternative assessment modes for modues and Campus Solutions[2]_text.txt\n",
      "Extracted text from Re- Alternative assessment modes for modues and Campus SolutionsDear Scott,[3].eml and saved to 20231020_Re- Alternative assessment modes for modues and Campus SolutionsDear Scott,[3]_text.txt\n"
     ]
    }
   ],
   "source": [
    "import os\n",
    "import email\n",
    "from email.parser import BytesParser, Parser\n",
    "from email.policy import default\n",
    "from datetime import datetime\n",
    "\n",
    "def extract_email_text(eml_file):\n",
    "    with open(eml_file, 'rb') as file:\n",
    "        msg = BytesParser(policy=default).parse(file)\n",
    "    \n",
    "    subject = msg['Subject']\n",
    "    body = msg.get_body(preferencelist=('plain')).get_content()\n",
    "    date_str = msg['Date']\n",
    "    date = datetime.strptime(date_str, '%a, %d %b %Y %H:%M:%S %z').strftime('%Y%m%d')\n",
    "    \n",
    "    return date, subject, body\n",
    "\n",
    "# Specify the directory containing your EML files\n",
    "directory = \"/Users/sm38679/Library/CloudStorage/Dropbox/research/altAssess\"\n",
    "\n",
    "for filename in os.listdir(directory):\n",
    "    if filename.endswith('.eml'):\n",
    "        eml_file = os.path.join(directory, filename)\n",
    "        date, subject, body = extract_email_text(eml_file)\n",
    "        \n",
    "        # Save the extracted text to a new file\n",
    "        output_filename = f\"{date}_{os.path.splitext(filename)[0]}_text.txt\"\n",
    "        output_path = os.path.join(directory, output_filename)\n",
    "        with open(output_path, 'w', encoding='utf-8') as output_file:\n",
    "            output_file.write(f\"Date: {date}\\nSubject: {subject}\\n\\n{body}\")\n",
    "        \n",
    "        print(f\"Extracted text from {filename} and saved to {output_filename}\")"
   ]
  },
  {
   "cell_type": "code",
   "execution_count": null,
   "metadata": {},
   "outputs": [],
   "source": [
    "#!/bin/bash\n",
    "\n",
    "# Specify the directory containing your text files\n",
    "# directory=\"/path/to/your/text/files\"\n",
    "\n",
    "# Specify the output file name\n",
    "output_file=\"2023merged_output.md\"\n",
    "\n",
    "# Navigate to the directory\n",
    "# cd \"$directory\" || { echo \"Directory not found\"; exit 1; }\n",
    "\n",
    "# Create or clear the output file\n",
    "> \"$output_file\"\n",
    "\n",
    "# Merge specified text files into the output file using a wildcard\n",
    "for file in 2023*.txt; do\n",
    "    if [[ -f \"$file\" ]]; then\n",
    "        # Add the file name as a Markdown header\n",
    "        echo \"## $file\" >> \"$output_file\"\n",
    "        # Append the content of the file\n",
    "        cat \"$file\" >> \"$output_file\"\n",
    "        echo -e \"\\n\" >> \"$output_file\"  # Add a newline for separation\n",
    "    fi\n",
    "done\n",
    "\n",
    "echo \"Merged specified text files into $output_file\""
   ]
  },
  {
   "cell_type": "code",
   "execution_count": 3,
   "metadata": {},
   "outputs": [
    {
     "ename": "SyntaxError",
     "evalue": "invalid syntax (2338594677.py, line 10)",
     "output_type": "error",
     "traceback": [
      "\u001b[0;36m  Cell \u001b[0;32mIn[3], line 10\u001b[0;36m\u001b[0m\n\u001b[0;31m    cd \"$directory\" || exit\u001b[0m\n\u001b[0m       ^\u001b[0m\n\u001b[0;31mSyntaxError\u001b[0m\u001b[0;31m:\u001b[0m invalid syntax\n"
     ]
    }
   ],
   "source": [
    "#!/bin/bash\n",
    "\n",
    "# Specify the directory containing your text files\n",
    "#directory = \"/Users/sm38679/Library/CloudStorage/Dropbox/research/RightsLab/DWeMSinUK/Meetings/emails\"\n",
    "\n",
    "# Specify the output file name\n",
    "output_file=\"merged_output.txt\"\n",
    "\n",
    "# Navigate to the directory\n",
    "# cd \"$directory\" || exit\n",
    "\n",
    "# Merge specified text files into the output file using a wildcard\n",
    "cat *.txt > \"$output_file\"\n",
    "\n",
    "echo \"Merged specified text files into $output_file\""
   ]
  }
 ],
 "metadata": {
  "kernelspec": {
   "display_name": "Python 3",
   "language": "python",
   "name": "python3"
  },
  "language_info": {
   "codemirror_mode": {
    "name": "ipython",
    "version": 3
   },
   "file_extension": ".py",
   "mimetype": "text/x-python",
   "name": "python",
   "nbconvert_exporter": "python",
   "pygments_lexer": "ipython3",
   "version": "3.9.18"
  }
 },
 "nbformat": 4,
 "nbformat_minor": 2
}
